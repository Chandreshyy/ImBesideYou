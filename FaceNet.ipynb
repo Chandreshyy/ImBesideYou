{
  "nbformat": 4,
  "nbformat_minor": 0,
  "metadata": {
    "kernelspec": {
      "display_name": "Python 3",
      "language": "python",
      "name": "python3"
    },
    "language_info": {
      "codemirror_mode": {
        "name": "ipython",
        "version": 3
      },
      "file_extension": ".py",
      "mimetype": "text/x-python",
      "name": "python",
      "nbconvert_exporter": "python",
      "pygments_lexer": "ipython3",
      "version": "3.8.5"
    },
    "colab": {
      "name": "FaceNet.ipynb",
      "provenance": []
    },
    "accelerator": "GPU"
  },
  "cells": [
    {
      "cell_type": "markdown",
      "metadata": {
        "id": "tt2nU_2sEJNJ"
      },
      "source": [
        "## Cloning the Repo"
      ]
    },
    {
      "cell_type": "code",
      "metadata": {
        "colab": {
          "base_uri": "https://localhost:8080/"
        },
        "id": "03fi56feQx7z",
        "outputId": "05234715-2c21-465c-aff4-530c807fc9c6"
      },
      "source": [
        "!git clone https://github.com/peppermenta/faceHack"
      ],
      "execution_count": null,
      "outputs": [
        {
          "output_type": "stream",
          "text": [
            "fatal: destination path 'faceHack' already exists and is not an empty directory.\n"
          ],
          "name": "stdout"
        }
      ]
    },
    {
      "cell_type": "markdown",
      "metadata": {
        "id": "tvyrZC4AEIdu"
      },
      "source": [
        "## Installing Dependencies"
      ]
    },
    {
      "cell_type": "code",
      "metadata": {
        "colab": {
          "base_uri": "https://localhost:8080/"
        },
        "id": "Otl96_aSRg6t",
        "outputId": "f270d02e-1840-4687-ab98-38b4bb7b6039"
      },
      "source": [
        "!pip3 install -r faceHack/requirements.txt"
      ],
      "execution_count": null,
      "outputs": [
        {
          "output_type": "stream",
          "text": [
            "Requirement already satisfied: torch in /usr/local/lib/python3.7/dist-packages (from -r faceHack/requirements.txt (line 1)) (1.8.1+cu101)\n",
            "Requirement already satisfied: numpy in /usr/local/lib/python3.7/dist-packages (from -r faceHack/requirements.txt (line 2)) (1.19.5)\n",
            "Requirement already satisfied: pillow in /usr/local/lib/python3.7/dist-packages (from -r faceHack/requirements.txt (line 3)) (7.1.2)\n",
            "Requirement already satisfied: typing-extensions in /usr/local/lib/python3.7/dist-packages (from torch->-r faceHack/requirements.txt (line 1)) (3.7.4.3)\n"
          ],
          "name": "stdout"
        }
      ]
    },
    {
      "cell_type": "markdown",
      "metadata": {
        "id": "1s_ZdkRyEQ9B"
      },
      "source": [
        "## Creating the Dataset"
      ]
    },
    {
      "cell_type": "code",
      "metadata": {
        "id": "e1eYcNd2SpX0"
      },
      "source": [
        "import torch\n",
        "from PIL import Image\n",
        "import numpy as np\n",
        "import os      \n",
        "import torchvision         \n",
        "\n",
        "class FaceDataset(torch.utils.data.Dataset):\n",
        "  def __init__(self,train=True,type='normal',transform=None):\n",
        "    super().__init__()\n",
        "    if(train):\n",
        "      self.data = np.genfromtxt(os.path.join('faceHack','dataset','train.csv'),delimiter=',',dtype=None,encoding='utf-8')\n",
        "    else:\n",
        "      self.data = np.genfromtxt(os.path.join('faceHack','dataset','test.csv'),delimiter=',',dtype=None,encoding='utf-8')\n",
        "    if type != 'normal':\n",
        "      temp = []\n",
        "      for i in range(self.data.shape[0]):\n",
        "        if self.data[i][1] != 'NOT smile':\n",
        "          temp.append(self.data[i])\n",
        "      self.data = np.array(temp)\n",
        "    self.type=type\n",
        "    self.transform = transform\n",
        "\n",
        "  def __len__(self):\n",
        "    return self.data.shape[0]\n",
        "\n",
        "  def __getitem__(self, index):\n",
        "    img_name = self.data[index][0]\n",
        "    X = Image.open(os.path.join('faceHack','dataset','happy_images','{}.jpg'.format(img_name)))\n",
        "    label = self.data[index][1]\n",
        "\n",
        "    if(self.type=='normal'):\n",
        "      if(label=='NOT smile'):\n",
        "        y = 0\n",
        "      else:\n",
        "        y = 1\n",
        "    else:\n",
        "      if(label=='positive smile'):\n",
        "        y = 1\n",
        "      else:\n",
        "        y = 0\n",
        "\n",
        "    if(self.transform):\n",
        "      X = self.transform(X)\n",
        "    return X,y\n"
      ],
      "execution_count": null,
      "outputs": []
    },
    {
      "cell_type": "markdown",
      "metadata": {
        "id": "ch3lRQbbEUQ-"
      },
      "source": [
        "## Defining the Transform"
      ]
    },
    {
      "cell_type": "code",
      "metadata": {
        "id": "0UNCG-mETFq3"
      },
      "source": [
        "faceTransform = torchvision.transforms.Compose([\n",
        "  torchvision.transforms.Resize(224),\n",
        "  torchvision.transforms.RandomHorizontalFlip(),\n",
        "  torchvision.transforms.ToTensor(),\n",
        "])"
      ],
      "execution_count": null,
      "outputs": []
    },
    {
      "cell_type": "markdown",
      "metadata": {
        "id": "ZYF-TkYQEXZn"
      },
      "source": [
        "## Setting up the Smile vs. No-Smile Model"
      ]
    },
    {
      "cell_type": "code",
      "metadata": {
        "colab": {
          "base_uri": "https://localhost:8080/"
        },
        "id": "lhLLE7c9VPwn",
        "outputId": "6d5327e5-47b8-47fb-cce9-2a4a667e8a03"
      },
      "source": [
        "device = torch.device('cuda')\n",
        "# model = torch.hub.load('pytorch/vision:v0.9.0', 'resnext101_32x8d', pretrained=True)\n",
        "model = torchvision.models.resnet18(pretrained=True)\n",
        "\n",
        "for param in model.parameters():\n",
        "  param.requires_grad = False\n",
        "for param in model.layer4.parameters():\n",
        "  param.requires_grad = True\n",
        "\n",
        "in_features = model.fc.in_features\n",
        "model.fc = torch.nn.Sequential(\n",
        "    torch.nn.Linear(in_features=in_features,out_features=128),\n",
        "    torch.nn.Linear(in_features=128,out_features=2)\n",
        ")\n",
        "\n",
        "model = model.to(device)\n",
        "\n",
        "trainDataset = FaceDataset(transform=faceTransform)\n",
        "testDataset = FaceDataset(train=False,transform=faceTransform)\n",
        "trainLoader = torch.utils.data.DataLoader(trainDataset,batch_size=32,shuffle=True,num_workers=2)\n",
        "testLoader = torch.utils.data.DataLoader(testDataset,batch_size=32,shuffle=False,num_workers=2)"
      ],
      "execution_count": null,
      "outputs": [
        {
          "output_type": "stream",
          "text": [
            "cuda\n"
          ],
          "name": "stdout"
        }
      ]
    },
    {
      "cell_type": "markdown",
      "metadata": {
        "id": "mM9oUgNWEnlB"
      },
      "source": [
        "## Training the Smile vs. No-Smile Model\n"
      ]
    },
    {
      "cell_type": "code",
      "metadata": {
        "colab": {
          "base_uri": "https://localhost:8080/",
          "height": 1000
        },
        "id": "1vNp6WBDWhIV",
        "outputId": "9472c693-2d02-42dd-af04-0376d2415b6b"
      },
      "source": [
        "model.train()\n",
        "criterion = torch.nn.CrossEntropyLoss()\n",
        "optimizer = torch.optim.Adam(filter(lambda p: p.requires_grad, model.parameters()),lr=0.0001)\n",
        "epochs = 20\n",
        "lambda1 = 0.0001\n",
        "\n",
        "loss_hist = []\n",
        "train_acc_hist = []\n",
        "test_acc_hist = []\n",
        "best_test = 0\n",
        "for epoch in range(epochs):\n",
        "  tot_loss = 0\n",
        "  correct = 0\n",
        "  for i,data in enumerate(trainLoader):\n",
        "    X,y = data\n",
        "    X = X.to(device)\n",
        "    y = y.to(device)\n",
        "\n",
        "    out = model(X)\n",
        "\n",
        "    _,pred = torch.max(out,dim=1)\n",
        "    correct += (pred==y).sum().item()\n",
        "\n",
        "    loss = criterion(out,y)\n",
        "    for p in model.parameters():\n",
        "      if p.requires_grad == True:\n",
        "        loss += lambda1*torch.sum(p**2)\n",
        "    optimizer.zero_grad()\n",
        "    loss.backward()\n",
        "    optimizer.step()\n",
        "\n",
        "    tot_loss += loss.item()\n",
        "    if(i%20==0):\n",
        "      print('Epoch:({},{}): Loss={}'.format(epoch,i,loss.item()))\n",
        "\n",
        "  loss_hist.append(tot_loss)\n",
        "  print('Train Accuracy is {}'.format(correct/len(trainDataset)))\n",
        "  train_acc_hist.append(correct/len(trainDataset))\n",
        "\n",
        "  test_correct = 0\n",
        "  with torch.no_grad():\n",
        "    for X,y in testLoader:\n",
        "      X = X.to(device)\n",
        "      y = y.to(device)\n",
        "      out = model(X)\n",
        "      _,pred = torch.max(out,dim=1)\n",
        "      test_correct += (pred==y).sum().item()\n",
        "  if test_correct > best_test:\n",
        "    best_test = test_correct\n",
        "    torch.save(model.state_dict(), './smile_best_weights.pt')\n",
        "  print('Test accuracy is {}'.format(test_correct/len(testDataset)))\n",
        "  test_acc_hist.append(test_correct/len(testDataset))\n",
        "\n",
        "import matplotlib.pyplot as plt\n",
        "print('Best Test Accuracy: {}'.format(best_test))\n",
        "plt.plot([i for i in range(epochs)],loss_hist)\n",
        "plt.show()\n",
        "plt.plot([i for i in range(epochs)],train_acc_hist)\n",
        "plt.plot([i for i in range(epochs)],test_acc_hist)\n",
        "plt.legend(['Train Accuracy','Test Accuracy'])\n",
        "plt.show()"
      ],
      "execution_count": null,
      "outputs": [
        {
          "output_type": "stream",
          "text": [
            "Epoch:(0,0): Loss=1.1086190938949585\n",
            "Epoch:(0,20): Loss=0.905098021030426\n",
            "Epoch:(0,40): Loss=0.7981089949607849\n",
            "Epoch:(0,60): Loss=0.9137798547744751\n",
            "Epoch:(0,80): Loss=0.8351609706878662\n",
            "Epoch:(0,100): Loss=1.0241938829421997\n",
            "Epoch:(0,120): Loss=0.8455922603607178\n",
            "Epoch:(0,140): Loss=0.9184404015541077\n",
            "Train Accuracy is 0.7938315048644173\n",
            "Test accuracy is 0.8435754189944135\n",
            "Epoch:(1,0): Loss=0.7491598725318909\n",
            "Epoch:(1,20): Loss=0.8910004496574402\n",
            "Epoch:(1,40): Loss=0.8091772198677063\n",
            "Epoch:(1,60): Loss=0.7487922310829163\n",
            "Epoch:(1,80): Loss=0.8106798529624939\n",
            "Epoch:(1,100): Loss=0.7788881659507751\n",
            "Epoch:(1,120): Loss=0.8296016454696655\n",
            "Epoch:(1,140): Loss=0.6947898864746094\n",
            "Train Accuracy is 0.8724901676671497\n",
            "Test accuracy is 0.8286778398510242\n",
            "Epoch:(2,0): Loss=0.5703455209732056\n",
            "Epoch:(2,20): Loss=0.7601328492164612\n",
            "Epoch:(2,40): Loss=0.7298794388771057\n",
            "Epoch:(2,60): Loss=0.5441134572029114\n",
            "Epoch:(2,80): Loss=0.6886284351348877\n",
            "Epoch:(2,100): Loss=0.6506853699684143\n",
            "Epoch:(2,120): Loss=0.5525199770927429\n",
            "Epoch:(2,140): Loss=0.7253217697143555\n",
            "Train Accuracy is 0.9180293935003105\n",
            "Test accuracy is 0.8367473618870267\n",
            "Epoch:(3,0): Loss=0.5804712772369385\n",
            "Epoch:(3,20): Loss=0.5180360078811646\n",
            "Epoch:(3,40): Loss=0.6619315147399902\n",
            "Epoch:(3,60): Loss=0.5919663310050964\n",
            "Epoch:(3,80): Loss=0.7018543481826782\n",
            "Epoch:(3,100): Loss=0.5466243028640747\n",
            "Epoch:(3,120): Loss=0.4935828745365143\n",
            "Epoch:(3,140): Loss=0.5848279595375061\n",
            "Train Accuracy is 0.9445249430759677\n",
            "Test accuracy is 0.8255741775294848\n",
            "Epoch:(4,0): Loss=0.5156294703483582\n",
            "Epoch:(4,20): Loss=0.5360900163650513\n",
            "Epoch:(4,40): Loss=0.5094344019889832\n",
            "Epoch:(4,60): Loss=0.4740906059741974\n",
            "Epoch:(4,80): Loss=0.5110228061676025\n",
            "Epoch:(4,100): Loss=0.5584703087806702\n",
            "Epoch:(4,120): Loss=0.5766835808753967\n",
            "Epoch:(4,140): Loss=0.46401599049568176\n",
            "Train Accuracy is 0.9656385841440696\n",
            "Test accuracy is 0.8274363749224084\n",
            "Epoch:(5,0): Loss=0.5156983137130737\n",
            "Epoch:(5,20): Loss=0.5177585482597351\n",
            "Epoch:(5,40): Loss=0.5005630254745483\n",
            "Epoch:(5,60): Loss=0.5397824645042419\n",
            "Epoch:(5,80): Loss=0.45185360312461853\n",
            "Epoch:(5,100): Loss=0.4891456067562103\n",
            "Epoch:(5,120): Loss=0.48931318521499634\n",
            "Epoch:(5,140): Loss=0.4826233386993408\n",
            "Train Accuracy is 0.9741254398675222\n",
            "Test accuracy is 0.8448168839230292\n",
            "Epoch:(6,0): Loss=0.4738316833972931\n",
            "Epoch:(6,20): Loss=0.49397921562194824\n",
            "Epoch:(6,40): Loss=0.4415303170681\n",
            "Epoch:(6,60): Loss=0.44810476899147034\n",
            "Epoch:(6,80): Loss=0.5986840724945068\n",
            "Epoch:(6,100): Loss=0.4488673508167267\n",
            "Epoch:(6,120): Loss=0.5804383754730225\n",
            "Epoch:(6,140): Loss=0.46695783734321594\n",
            "Train Accuracy is 0.9761954046781205\n",
            "Test accuracy is 0.8230912476722533\n",
            "Epoch:(7,0): Loss=0.44906085729599\n",
            "Epoch:(7,20): Loss=0.46313777565956116\n",
            "Epoch:(7,40): Loss=0.44608309864997864\n",
            "Epoch:(7,60): Loss=0.4585556089878082\n",
            "Epoch:(7,80): Loss=0.6270560026168823\n",
            "Epoch:(7,100): Loss=0.5075011849403381\n",
            "Epoch:(7,120): Loss=0.45752549171447754\n",
            "Epoch:(7,140): Loss=0.4502987861633301\n",
            "Train Accuracy is 0.9863382322500518\n",
            "Test accuracy is 0.8361266294227188\n",
            "Epoch:(8,0): Loss=0.5156395435333252\n",
            "Epoch:(8,20): Loss=0.5031723380088806\n",
            "Epoch:(8,40): Loss=0.4428981840610504\n",
            "Epoch:(8,60): Loss=0.43886229395866394\n",
            "Epoch:(8,80): Loss=0.4531099796295166\n",
            "Epoch:(8,100): Loss=0.45140403509140015\n",
            "Epoch:(8,120): Loss=0.43911808729171753\n",
            "Epoch:(8,140): Loss=0.42982929944992065\n",
            "Train Accuracy is 0.982612295590975\n",
            "Test accuracy is 0.8379888268156425\n",
            "Epoch:(9,0): Loss=0.4335784614086151\n",
            "Epoch:(9,20): Loss=0.4440562129020691\n",
            "Epoch:(9,40): Loss=0.47618454694747925\n",
            "Epoch:(9,60): Loss=0.45046266913414\n",
            "Epoch:(9,80): Loss=0.4411059319972992\n",
            "Epoch:(9,100): Loss=0.4271770715713501\n",
            "Epoch:(9,120): Loss=0.4247220754623413\n",
            "Epoch:(9,140): Loss=0.4320821464061737\n",
            "Train Accuracy is 0.9867522252121714\n",
            "Test accuracy is 0.8361266294227188\n",
            "Epoch:(10,0): Loss=0.4316776692867279\n",
            "Epoch:(10,20): Loss=0.4999127984046936\n",
            "Epoch:(10,40): Loss=0.5195780396461487\n",
            "Epoch:(10,60): Loss=0.42244580388069153\n",
            "Epoch:(10,80): Loss=0.44137781858444214\n",
            "Epoch:(10,100): Loss=0.43097540736198425\n",
            "Epoch:(10,120): Loss=0.42914053797721863\n",
            "Epoch:(10,140): Loss=0.42204028367996216\n",
            "Train Accuracy is 0.9900641689091285\n",
            "Test accuracy is 0.834885164494103\n",
            "Epoch:(11,0): Loss=0.4227091670036316\n",
            "Epoch:(11,20): Loss=0.7588922381401062\n",
            "Epoch:(11,40): Loss=0.42057207226753235\n",
            "Epoch:(11,60): Loss=0.419678270816803\n",
            "Epoch:(11,80): Loss=0.42568621039390564\n",
            "Epoch:(11,100): Loss=0.44564589858055115\n",
            "Epoch:(11,120): Loss=0.41691941022872925\n",
            "Epoch:(11,140): Loss=0.46000993251800537\n",
            "Train Accuracy is 0.9875802111364107\n",
            "Test accuracy is 0.8441961514587213\n",
            "Epoch:(12,0): Loss=0.4347969889640808\n",
            "Epoch:(12,20): Loss=0.4215221405029297\n",
            "Epoch:(12,40): Loss=0.42184993624687195\n",
            "Epoch:(12,60): Loss=0.4170508086681366\n",
            "Epoch:(12,80): Loss=0.42280569672584534\n",
            "Epoch:(12,100): Loss=0.5532321333885193\n",
            "Epoch:(12,120): Loss=0.5112034678459167\n",
            "Epoch:(12,140): Loss=0.46649429202079773\n",
            "Train Accuracy is 0.9875802111364107\n",
            "Test accuracy is 0.845437616387337\n",
            "Epoch:(13,0): Loss=0.4265609681606293\n",
            "Epoch:(13,20): Loss=0.42072704434394836\n",
            "Epoch:(13,40): Loss=0.5065843462944031\n",
            "Epoch:(13,60): Loss=0.4170657694339752\n",
            "Epoch:(13,80): Loss=0.41737595200538635\n",
            "Epoch:(13,100): Loss=0.4075930714607239\n",
            "Epoch:(13,120): Loss=0.4205450117588043\n",
            "Epoch:(13,140): Loss=0.4095781445503235\n",
            "Train Accuracy is 0.9923411302007866\n",
            "Test accuracy is 0.8429546865301055\n",
            "Epoch:(14,0): Loss=0.4862692952156067\n",
            "Epoch:(14,20): Loss=0.40898311138153076\n",
            "Epoch:(14,40): Loss=0.4050399661064148\n",
            "Epoch:(14,60): Loss=0.40736302733421326\n",
            "Epoch:(14,80): Loss=0.41186773777008057\n",
            "Epoch:(14,100): Loss=0.4051273465156555\n",
            "Epoch:(14,120): Loss=0.4039916694164276\n",
            "Epoch:(14,140): Loss=0.40509873628616333\n",
            "Train Accuracy is 0.9939971020492652\n",
            "Test accuracy is 0.8379888268156425\n",
            "Epoch:(15,0): Loss=0.5041608810424805\n",
            "Epoch:(15,20): Loss=0.4140608608722687\n",
            "Epoch:(15,40): Loss=0.4015209972858429\n",
            "Epoch:(15,60): Loss=0.3999871015548706\n",
            "Epoch:(15,80): Loss=0.42592957615852356\n",
            "Epoch:(15,100): Loss=0.4038645923137665\n",
            "Epoch:(15,120): Loss=0.39911484718322754\n",
            "Epoch:(15,140): Loss=0.4521157443523407\n",
            "Train Accuracy is 0.9871662181742911\n",
            "Test accuracy is 0.840471756672874\n",
            "Epoch:(16,0): Loss=0.4037283957004547\n",
            "Epoch:(16,20): Loss=0.399306058883667\n",
            "Epoch:(16,40): Loss=0.4193199872970581\n",
            "Epoch:(16,60): Loss=0.39609384536743164\n",
            "Epoch:(16,80): Loss=0.40479135513305664\n",
            "Epoch:(16,100): Loss=0.3942083418369293\n",
            "Epoch:(16,120): Loss=0.395935595035553\n",
            "Epoch:(16,140): Loss=0.4029792547225952\n",
            "Train Accuracy is 0.9929621196439661\n",
            "Test accuracy is 0.8373680943513345\n",
            "Epoch:(17,0): Loss=0.4230312407016754\n",
            "Epoch:(17,20): Loss=0.40005871653556824\n",
            "Epoch:(17,40): Loss=0.5592602491378784\n",
            "Epoch:(17,60): Loss=0.4128027856349945\n",
            "Epoch:(17,80): Loss=0.4090254008769989\n",
            "Epoch:(17,100): Loss=0.4173199236392975\n",
            "Epoch:(17,120): Loss=0.3978692889213562\n",
            "Epoch:(17,140): Loss=0.41062092781066895\n",
            "Train Accuracy is 0.9877872076174705\n",
            "Test accuracy is 0.8367473618870267\n",
            "Epoch:(18,0): Loss=0.3890150487422943\n",
            "Epoch:(18,20): Loss=0.40216726064682007\n",
            "Epoch:(18,40): Loss=0.4049796760082245\n",
            "Epoch:(18,60): Loss=0.3939296305179596\n",
            "Epoch:(18,80): Loss=0.4338928759098053\n",
            "Epoch:(18,100): Loss=0.3974018096923828\n",
            "Epoch:(18,120): Loss=0.3888556659221649\n",
            "Epoch:(18,140): Loss=0.3938429653644562\n",
            "Train Accuracy is 0.9898571724280687\n",
            "Test accuracy is 0.8317815021725636\n",
            "Epoch:(19,0): Loss=0.39088061451911926\n",
            "Epoch:(19,20): Loss=0.38924074172973633\n",
            "Epoch:(19,40): Loss=0.39764705300331116\n",
            "Epoch:(19,60): Loss=0.3832034766674042\n",
            "Epoch:(19,80): Loss=0.4438316226005554\n",
            "Epoch:(19,100): Loss=0.39038440585136414\n",
            "Epoch:(19,120): Loss=0.3918212950229645\n",
            "Epoch:(19,140): Loss=0.3827836811542511\n",
            "Train Accuracy is 0.994204098530325\n",
            "Test accuracy is 0.8342644320297952\n"
          ],
          "name": "stdout"
        },
        {
          "output_type": "display_data",
          "data": {
            "image/png": "[encoded data removed]",
            "text/plain": [
              "<Figure size 432x288 with 1 Axes>"
            ]
          },
          "metadata": {
            "tags": [],
            "needs_background": "light"
          }
        },
        {
          "output_type": "display_data",
          "data": {
            "image/png": "[encoded data removed]",
            "text/plain": [
              "<Figure size 432x288 with 1 Axes>"
            ]
          },
          "metadata": {
            "tags": [],
            "needs_background": "light"
          }
        }
      ]
    },
    {
      "cell_type": "markdown",
      "metadata": {
        "id": "SWZZUHItEGMT"
      },
      "source": [
        ""
      ]
    },
    {
      "cell_type": "markdown",
      "metadata": {
        "id": "liqjfQFyErXu"
      },
      "source": [
        "## Setting up the Positive vs. Negative Smile Model"
      ]
    },
    {
      "cell_type": "code",
      "metadata": {
        "colab": {
          "base_uri": "https://localhost:8080/"
        },
        "id": "FjLR_dkRBLvr",
        "outputId": "96f27a16-67ae-4de5-decd-0b21561b0ee8"
      },
      "source": [
        "device = torch.device('cuda')\n",
        "print(device)\n",
        "# model = torch.hub.load('pytorch/vision:v0.9.0', 'resnext101_32x8d', pretrained=True)\n",
        "model1 = torchvision.models.resnet18(pretrained=True)\n",
        "\n",
        "for param in model1.parameters():\n",
        "  param.requires_grad = False\n",
        "for param in model1.layer4.parameters():\n",
        "  param.requires_grad = True\n",
        "\n",
        "in_features = model1.fc.in_features\n",
        "model1.fc = torch.nn.Sequential(\n",
        "    torch.nn.Linear(in_features=in_features,out_features=128),\n",
        "    torch.nn.Linear(in_features=128,out_features=2)\n",
        ")\n",
        "\n",
        "model1 = model1.to(device)\n",
        "\n",
        "trainDataset = FaceDataset(transform=faceTransform, type=\"posneg\")\n",
        "testDataset = FaceDataset(train=False,transform=faceTransform, type=\"posneg\")\n",
        "trainLoader = torch.utils.data.DataLoader(trainDataset,batch_size=32,shuffle=True,num_workers=2)\n",
        "testLoader = torch.utils.data.DataLoader(testDataset,batch_size=32,shuffle=False,num_workers=2)"
      ],
      "execution_count": null,
      "outputs": [
        {
          "output_type": "stream",
          "text": [
            "cuda\n"
          ],
          "name": "stdout"
        }
      ]
    },
    {
      "cell_type": "markdown",
      "metadata": {
        "id": "PVqHaxjDEwyJ"
      },
      "source": [
        "## Training the Positive vs. Negative Smile Model"
      ]
    },
    {
      "cell_type": "code",
      "metadata": {
        "colab": {
          "base_uri": "https://localhost:8080/",
          "height": 1000
        },
        "id": "33YPqN13Bafm",
        "outputId": "69b4fcb5-2d7b-4fa5-f733-bae71e9ceee3"
      },
      "source": [
        "model1.train()\n",
        "criterion = torch.nn.CrossEntropyLoss()\n",
        "optimizer = torch.optim.Adam(filter(lambda p: p.requires_grad, model1.parameters()),lr=0.0001)\n",
        "epochs = 20\n",
        "lambda1 = 0.0001\n",
        "\n",
        "loss_hist = []\n",
        "train_acc_hist = []\n",
        "test_acc_hist = []\n",
        "best_test = 0\n",
        "for epoch in range(epochs):\n",
        "  tot_loss = 0\n",
        "  correct = 0\n",
        "  for i,data in enumerate(trainLoader):\n",
        "    X,y = data\n",
        "    X = X.to(device)\n",
        "    y = y.to(device)\n",
        "\n",
        "    out = model1(X)\n",
        "\n",
        "    _,pred = torch.max(out,dim=1)\n",
        "    correct += (pred==y).sum().item()\n",
        "\n",
        "    loss = criterion(out,y)\n",
        "    for p in model1.parameters():\n",
        "      if p.requires_grad == True:\n",
        "        loss += lambda1*torch.sum(p**2)\n",
        "    optimizer.zero_grad()\n",
        "    loss.backward()\n",
        "    optimizer.step()\n",
        "\n",
        "    tot_loss += loss.item()\n",
        "    if(i%20==0):\n",
        "      print('Epoch:({},{}): Loss={}'.format(epoch,i,loss.item()))\n",
        "\n",
        "  loss_hist.append(tot_loss)\n",
        "  print('Train Accuracy is {}'.format(correct/len(trainDataset)))\n",
        "  train_acc_hist.append(correct/len(trainDataset))\n",
        "\n",
        "  test_correct = 0\n",
        "  with torch.no_grad():\n",
        "    for X,y in testLoader:\n",
        "      X = X.to(device)\n",
        "      y = y.to(device)\n",
        "      out = model1(X)\n",
        "      _,pred = torch.max(out,dim=1)\n",
        "      test_correct += (pred==y).sum().item()\n",
        "  if test_correct > best_test:\n",
        "    best_test = test_correct\n",
        "    torch.save(model1.state_dict(), './smile_best_weights_posneg.pt')\n",
        "  print('Test accuracy is {}'.format(test_correct/len(testDataset)))\n",
        "  test_acc_hist.append(test_correct/len(testDataset))\n",
        "\n",
        "import matplotlib.pyplot as plt\n",
        "print('Best Test Accuracy: {}'.format(best_test))\n",
        "plt.plot([i for i in range(epochs)],loss_hist)\n",
        "plt.show()\n",
        "plt.plot([i for i in range(epochs)],train_acc_hist)\n",
        "plt.plot([i for i in range(epochs)],test_acc_hist)\n",
        "plt.legend(['Train Accuracy','Test Accuracy'])\n",
        "plt.show()"
      ],
      "execution_count": null,
      "outputs": [
        {
          "output_type": "stream",
          "text": [
            "Epoch:(0,0): Loss=1.1393613815307617\n",
            "Epoch:(0,20): Loss=1.0496973991394043\n",
            "Epoch:(0,40): Loss=1.1267502307891846\n",
            "Train Accuracy is 0.6854237288135593\n",
            "Test accuracy is 0.7142857142857143\n",
            "Epoch:(1,0): Loss=1.0343255996704102\n",
            "Epoch:(1,20): Loss=0.946516752243042\n",
            "Epoch:(1,40): Loss=0.8892644047737122\n",
            "Train Accuracy is 0.8135593220338984\n",
            "Test accuracy is 0.7039337474120083\n",
            "Epoch:(2,0): Loss=0.7773545384407043\n",
            "Epoch:(2,20): Loss=0.821036696434021\n",
            "Epoch:(2,40): Loss=0.7935656905174255\n",
            "Train Accuracy is 0.9016949152542373\n",
            "Test accuracy is 0.722567287784679\n",
            "Epoch:(3,0): Loss=0.6342889070510864\n",
            "Epoch:(3,20): Loss=0.5772280693054199\n",
            "Epoch:(3,40): Loss=0.5965115427970886\n",
            "Train Accuracy is 0.9430508474576271\n",
            "Test accuracy is 0.7204968944099379\n",
            "Epoch:(4,0): Loss=0.5396691560745239\n",
            "Epoch:(4,20): Loss=0.567621648311615\n",
            "Epoch:(4,40): Loss=0.5077978372573853\n",
            "Train Accuracy is 0.9559322033898305\n",
            "Test accuracy is 0.7039337474120083\n",
            "Epoch:(5,0): Loss=0.5268551707267761\n",
            "Epoch:(5,20): Loss=0.4886639416217804\n",
            "Epoch:(5,40): Loss=0.5743581056594849\n",
            "Train Accuracy is 0.9525423728813559\n",
            "Test accuracy is 0.6997929606625258\n",
            "Epoch:(6,0): Loss=0.5279673933982849\n",
            "Epoch:(6,20): Loss=0.5210683941841125\n",
            "Epoch:(6,40): Loss=0.48930931091308594\n",
            "Train Accuracy is 0.9830508474576272\n",
            "Test accuracy is 0.6915113871635611\n",
            "Epoch:(7,0): Loss=0.4911729395389557\n",
            "Epoch:(7,20): Loss=0.5026162266731262\n",
            "Epoch:(7,40): Loss=0.4774025082588196\n",
            "Train Accuracy is 0.9803389830508474\n",
            "Test accuracy is 0.6708074534161491\n",
            "Epoch:(8,0): Loss=0.4682214856147766\n",
            "Epoch:(8,20): Loss=0.4690088927745819\n",
            "Epoch:(8,40): Loss=0.5944922566413879\n",
            "Train Accuracy is 0.9938983050847457\n",
            "Test accuracy is 0.6749482401656315\n",
            "Epoch:(9,0): Loss=0.490218847990036\n",
            "Epoch:(9,20): Loss=0.4579137861728668\n",
            "Epoch:(9,40): Loss=0.49979299306869507\n",
            "Train Accuracy is 0.991864406779661\n",
            "Test accuracy is 0.7204968944099379\n",
            "Epoch:(10,0): Loss=0.45645639300346375\n",
            "Epoch:(10,20): Loss=0.4731605350971222\n",
            "Epoch:(10,40): Loss=0.4690684676170349\n",
            "Train Accuracy is 0.9857627118644068\n",
            "Test accuracy is 0.7204968944099379\n",
            "Epoch:(11,0): Loss=0.4581855833530426\n",
            "Epoch:(11,20): Loss=0.47658252716064453\n",
            "Epoch:(11,40): Loss=0.4742703437805176\n",
            "Train Accuracy is 0.9972881355932204\n",
            "Test accuracy is 0.7080745341614907\n",
            "Epoch:(12,0): Loss=0.451619416475296\n",
            "Epoch:(12,20): Loss=0.45506080985069275\n",
            "Epoch:(12,40): Loss=0.47290533781051636\n",
            "Train Accuracy is 0.984406779661017\n",
            "Test accuracy is 0.7163561076604554\n",
            "Epoch:(13,0): Loss=0.4520966410636902\n",
            "Epoch:(13,20): Loss=0.45825380086898804\n",
            "Epoch:(13,40): Loss=0.4510277807712555\n",
            "Train Accuracy is 0.9952542372881356\n",
            "Test accuracy is 0.6935817805383023\n",
            "Epoch:(14,0): Loss=0.44932451844215393\n",
            "Epoch:(14,20): Loss=0.4477878510951996\n",
            "Epoch:(14,40): Loss=0.44938868284225464\n",
            "Train Accuracy is 0.9972881355932204\n",
            "Test accuracy is 0.7080745341614907\n",
            "Epoch:(15,0): Loss=0.45634859800338745\n",
            "Epoch:(15,20): Loss=0.5462050437927246\n",
            "Epoch:(15,40): Loss=0.4820433557033539\n",
            "Train Accuracy is 0.9816949152542372\n",
            "Test accuracy is 0.7267080745341615\n",
            "Epoch:(16,0): Loss=0.5209671854972839\n",
            "Epoch:(16,20): Loss=0.48060470819473267\n",
            "Epoch:(16,40): Loss=0.4809627830982208\n",
            "Train Accuracy is 0.9925423728813559\n",
            "Test accuracy is 0.6977225672877847\n",
            "Epoch:(17,0): Loss=0.4513784646987915\n",
            "Epoch:(17,20): Loss=0.44886264204978943\n",
            "Epoch:(17,40): Loss=0.44941428303718567\n",
            "Train Accuracy is 0.9911864406779661\n",
            "Test accuracy is 0.6935817805383023\n",
            "Epoch:(18,0): Loss=0.447860449552536\n",
            "Epoch:(18,20): Loss=0.4494348168373108\n",
            "Epoch:(18,40): Loss=0.44459477066993713\n",
            "Train Accuracy is 0.9857627118644068\n",
            "Test accuracy is 0.6811594202898551\n",
            "Epoch:(19,0): Loss=0.5339164733886719\n",
            "Epoch:(19,20): Loss=0.44484347105026245\n",
            "Epoch:(19,40): Loss=0.44481733441352844\n",
            "Train Accuracy is 0.9803389830508474\n",
            "Test accuracy is 0.7163561076604554\n"
          ],
          "name": "stdout"
        },
        {
          "output_type": "display_data",
          "data": {
            "image/png": "[encoded data removed]",
            "text/plain": [
              "<Figure size 432x288 with 1 Axes>"
            ]
          },
          "metadata": {
            "tags": [],
            "needs_background": "light"
          }
        },
        {
          "output_type": "display_data",
          "data": {
            "image/png": "[encoded data removed]",
            "text/plain": [
              "<Figure size 432x288 with 1 Axes>"
            ]
          },
          "metadata": {
            "tags": [],
            "needs_background": "light"
          }
        }
      ]
    },
    {
      "cell_type": "markdown",
      "metadata": {
        "id": "vgF8HTq8E1fq"
      },
      "source": [
        "## Reporting Final Test Accuracy(Both Models combined)"
      ]
    },
    {
      "cell_type": "code",
      "metadata": {
        "colab": {
          "base_uri": "https://localhost:8080/"
        },
        "id": "fZcjqzc-CuY3",
        "outputId": "7c047493-e09f-4f64-e08b-311cd8f5d733"
      },
      "source": [
        "model.load_state_dict(torch.load('./smile_best_weights.pt'))\n",
        "model1.load_state_dict(torch.load('./smile_best_weights_posneg.pt'))\n",
        "testDataset = FaceDataset(train=False,transform=faceTransform)\n",
        "testLoader = torch.utils.data.DataLoader(testDataset,batch_size=1,shuffle=False,num_workers=2)\n",
        "model = model.to(device)\n",
        "model1 = model1.to(device)\n",
        "model.eval()\n",
        "model1.eval()\n",
        "labels = []\n",
        "true_labels = []\n",
        "for X,y in testLoader:\n",
        "  X = X.to(device)\n",
        "  out = model(X)\n",
        "  _,pred = torch.max(out,dim=1)\n",
        "  if pred == 0:\n",
        "    labels.append(0)\n",
        "  else:\n",
        "    out = model1(X)\n",
        "    _,pred = torch.max(out,dim=1)\n",
        "    labels.append(pred.item() + 1)\n",
        "for i in range(testDataset.data.shape[0]):\n",
        "  true_label = testDataset.data[i][1]\n",
        "  if true_label == 'NOT smile':\n",
        "    true_labels.append(0)\n",
        "  elif true_label == 'negative smile':\n",
        "    true_labels.append(1)\n",
        "  else:\n",
        "    true_labels.append(2)\n",
        "count = 0\n",
        "for i in range(len(labels)):\n",
        "  if labels[i] == true_labels[i]:\n",
        "    count += 1\n",
        "print(count / len(true_labels))\n",
        "\n"
      ],
      "execution_count": null,
      "outputs": [
        {
          "output_type": "stream",
          "text": [
            "0.7920546244568591\n"
          ],
          "name": "stdout"
        }
      ]
    }
  ]
}